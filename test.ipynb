{
 "cells": [
  {
   "cell_type": "markdown",
   "metadata": {},
   "source": [
    "# Test prerekvizitních znalostí Pythonu\n",
    "Na tomto testu byste si měli ověřit, zda chápete základní struktury a konstrukce v jazyku Python. Hodnotit se bude nejen funkčnost, ale i časová složitost kódu a míra využití vhodných konstrukcí jazyka.\n",
    "\n",
    "_Odhadovaná doba řešení:_ 10 minut\n",
    "\n",
    "_Odevzdávání:_ tento soubor `test.ipynb` odevzdejte do IS VUT do úterý 20. září 2022\n",
    "\n",
    "_Dotazy:_ fórum ve E-learningu, hodnotit bude V. Mrázek"
   ]
  },
  {
   "cell_type": "code",
   "execution_count": 2,
   "metadata": {
    "tags": []
   },
   "outputs": [
    {
     "name": "stdout",
     "output_type": "stream",
     "text": [
      "3.10.7 (tags/v3.10.7:6cc6b13, Sep  5 2022, 14:08:36) [MSC v.1933 64 bit (AMD64)]\n"
     ]
    }
   ],
   "source": [
    "# test verze jazyka Python\n",
    "import sys\n",
    "print(sys.version)\n",
    "# mela by byt Python 3.9 nebo vyssi"
   ]
  },
  {
   "cell_type": "code",
   "execution_count": 3,
   "metadata": {
    "tags": []
   },
   "outputs": [
    {
     "data": {
      "text/plain": [
       "'matou'"
      ]
     },
     "execution_count": 3,
     "metadata": {},
     "output_type": "execute_result"
    }
   ],
   "source": [
    "# TODO: vypište váš login\n",
    "from getpass import getuser\n",
    "\n",
    "\n",
    "getuser()"
   ]
  },
  {
   "cell_type": "markdown",
   "metadata": {},
   "source": [
    "## Část 1: funkce, generátorová notace\n",
    "\n",
    "- Napište funci `f1` s proměnným počtem __pozičně závislých__ argumentů, která vypíše všechny argumenty ve formátu\n",
    "```\n",
    "arg1=hodnota1\n",
    "arg2=hodnota2\n",
    "arg3=hodnota3\n",
    "arg4=hodnota4\n",
    "```"
   ]
  },
  {
   "cell_type": "code",
   "execution_count": 4,
   "metadata": {
    "tags": []
   },
   "outputs": [
    {
     "name": "stdout",
     "output_type": "stream",
     "text": [
      "arg1=hodnota1\n",
      "arg2=hodnota2\n",
      "arg3=hodnota3\n",
      "arg4=hodnota4\n"
     ]
    }
   ],
   "source": [
    "# Funkce s proměnným počtem argumentů\n",
    "# TODO: napiste funkci f1 \n",
    "def f1(*args):\n",
    "    for i,j in enumerate(args):\n",
    "        print(f\"arg{i+1}={j}\")\n",
    "\n",
    "f1(\"hodnota1\", \"hodnota2\", \"hodnota3\", \"hodnota4\")"
   ]
  },
  {
   "cell_type": "markdown",
   "metadata": {},
   "source": [
    "Vytvořte slovník (`dictionary`) v proměnné `dict_values` , který bude obsahovat položky \"param1\" s hodnotou \"value1\", \"param2\" s hodnotou \"value2\" až po \"param30\" s hodnotou \"value30\". Zřejmě k tomu využijete výčet `range`, formátovací řetězce a měli byste použít zápis na jeden řádek pomocí tzv _generátorové notace_. Vynechte ale položku 7 (využijte podmínky v generátorové notaci)"
   ]
  },
  {
   "cell_type": "code",
   "execution_count": 9,
   "metadata": {},
   "outputs": [
    {
     "data": {
      "text/plain": [
       "{'param1': 'value1',\n",
       " 'param2': 'value2',\n",
       " 'param3': 'value3',\n",
       " 'param4': 'value4',\n",
       " 'param5': 'value5',\n",
       " 'param6': 'value6',\n",
       " 'param8': 'value8',\n",
       " 'param9': 'value9',\n",
       " 'param10': 'value10',\n",
       " 'param11': 'value11',\n",
       " 'param12': 'value12',\n",
       " 'param13': 'value13',\n",
       " 'param14': 'value14',\n",
       " 'param15': 'value15',\n",
       " 'param16': 'value16',\n",
       " 'param17': 'value17',\n",
       " 'param18': 'value18',\n",
       " 'param19': 'value19',\n",
       " 'param20': 'value20',\n",
       " 'param21': 'value21',\n",
       " 'param22': 'value22',\n",
       " 'param23': 'value23',\n",
       " 'param24': 'value24',\n",
       " 'param25': 'value25',\n",
       " 'param26': 'value26',\n",
       " 'param27': 'value27',\n",
       " 'param28': 'value28',\n",
       " 'param29': 'value29',\n",
       " 'param30': 'value30'}"
      ]
     },
     "execution_count": 9,
     "metadata": {},
     "output_type": "execute_result"
    }
   ],
   "source": [
    "# TODO: vytvořte slovník dict_values (a na konci jej zobrazte)\n",
    "# pozn: stačí dát proměnnou dict_values samostatně na poslední řádek, Jupyter vypisuje výsledek posledního řádku\n",
    "\n",
    "dict_values = {f\"param{i}\": f\"value{i}\" for i in range(1, 31) if i != 7}\n",
    "dict_values"
   ]
  },
  {
   "cell_type": "markdown",
   "metadata": {},
   "source": [
    "## Část 2: Výjimky\n",
    "\n",
    "Vytvořte funkci `f2`, která má dva argumenty `p` a `s`. Argument `s` je ve výchozím stavu nastavený na \"A\". Výsledkem funkce je řetězec složený z p-opakování argumentu `s`. V případě, že `p` je záporné, funkce vyvolá výjimku s popisem \"Hodnota p nemuze byt mensi nez 0, bylo zadano -5\" (podle toho, jaké číslo bylo zadáno). Funkce sama o sobě nikdy nesmí nic vypisovat!"
   ]
  },
  {
   "cell_type": "code",
   "execution_count": 40,
   "metadata": {
    "tags": []
   },
   "outputs": [],
   "source": [
    "#TODO: vytvorte funkci f2\n",
    "\n",
    "f2(40)"
   ]
  },
  {
   "cell_type": "markdown",
   "metadata": {},
   "source": [
    "Test vyvolání vyjímky - zkusíme nastavit zápornou hodnotu."
   ]
  },
  {
   "cell_type": "code",
   "execution_count": 41,
   "metadata": {},
   "outputs": [
    {
     "name": "stdout",
     "output_type": "stream",
     "text": [
      "Hodnota p nemuze byt mensi nez 0, bylo zadano -40\n"
     ]
    }
   ],
   "source": [
    "# neměnit!\n",
    "f2(p=-40, s=\"AB\")"
   ]
  },
  {
   "cell_type": "markdown",
   "metadata": {},
   "source": [
    "Nyní je vaším úkolem napsat ošetření vyjímky, které při nastavení záporné hodnoty argumenty `p` vypíše chybovou hlášku, kterou převezme z vyjímky (použijte konstrukci `ValueError as e` a vypište i proměnnou `e`)"
   ]
  },
  {
   "cell_type": "code",
   "execution_count": 13,
   "metadata": {
    "tags": []
   },
   "outputs": [
    {
     "name": "stdout",
     "output_type": "stream",
     "text": [
      "Hodnota p nemuze byt mensi nez 0, bylo zadano -4\n"
     ]
    },
    {
     "ename": "ZeroDivisionError",
     "evalue": "sdf",
     "output_type": "error",
     "traceback": [
      "\u001b[1;31m---------------------------------------------------------------------------\u001b[0m",
      "\u001b[1;31mZeroDivisionError\u001b[0m                         Traceback (most recent call last)",
      "Cell \u001b[1;32mIn [13], line 5\u001b[0m, in \u001b[0;36mf2\u001b[1;34m(p, s)\u001b[0m\n\u001b[0;32m      4\u001b[0m     \u001b[38;5;28;01mif\u001b[39;00m p \u001b[38;5;241m<\u001b[39m \u001b[38;5;241m0\u001b[39m:\n\u001b[1;32m----> 5\u001b[0m         \u001b[43mp\u001b[49m\u001b[43m \u001b[49m\u001b[38;5;241;43m/\u001b[39;49m\u001b[43m \u001b[49m\u001b[38;5;241;43m0\u001b[39;49m\n\u001b[0;32m      6\u001b[0m \u001b[38;5;28;01mexcept\u001b[39;00m \u001b[38;5;167;01mZeroDivisionError\u001b[39;00m \u001b[38;5;28;01mas\u001b[39;00m e:\n",
      "\u001b[1;31mZeroDivisionError\u001b[0m: division by zero",
      "\nThe above exception was the direct cause of the following exception:\n",
      "\u001b[1;31mZeroDivisionError\u001b[0m                         Traceback (most recent call last)",
      "Cell \u001b[1;32mIn [13], line 10\u001b[0m\n\u001b[0;32m      8\u001b[0m         \u001b[38;5;28;01mraise\u001b[39;00m \u001b[38;5;167;01mZeroDivisionError\u001b[39;00m(\u001b[38;5;124m\"\u001b[39m\u001b[38;5;124msdf\u001b[39m\u001b[38;5;124m\"\u001b[39m) \u001b[38;5;28;01mfrom\u001b[39;00m \u001b[38;5;21;01me\u001b[39;00m\n\u001b[0;32m      9\u001b[0m     out \u001b[38;5;241m=\u001b[39m s\u001b[38;5;241m*\u001b[39mp\n\u001b[1;32m---> 10\u001b[0m \u001b[43mf2\u001b[49m\u001b[43m(\u001b[49m\u001b[43ms\u001b[49m\u001b[38;5;241;43m=\u001b[39;49m\u001b[38;5;124;43m\"\u001b[39;49m\u001b[38;5;124;43mABC\u001b[39;49m\u001b[38;5;124;43m\"\u001b[39;49m\u001b[43m,\u001b[49m\u001b[43m \u001b[49m\u001b[43mp\u001b[49m\u001b[38;5;241;43m=\u001b[39;49m\u001b[38;5;241;43m-\u001b[39;49m\u001b[38;5;241;43m4\u001b[39;49m\u001b[43m)\u001b[49m\n",
      "Cell \u001b[1;32mIn [13], line 8\u001b[0m, in \u001b[0;36mf2\u001b[1;34m(p, s)\u001b[0m\n\u001b[0;32m      6\u001b[0m \u001b[38;5;28;01mexcept\u001b[39;00m \u001b[38;5;167;01mZeroDivisionError\u001b[39;00m \u001b[38;5;28;01mas\u001b[39;00m e:\n\u001b[0;32m      7\u001b[0m     \u001b[38;5;28mprint\u001b[39m(\u001b[38;5;124mf\u001b[39m\u001b[38;5;124m'\u001b[39m\u001b[38;5;124mHodnota p nemuze byt mensi nez 0, bylo zadano \u001b[39m\u001b[38;5;132;01m{\u001b[39;00mp\u001b[38;5;132;01m}\u001b[39;00m\u001b[38;5;124m'\u001b[39m)\n\u001b[1;32m----> 8\u001b[0m     \u001b[38;5;28;01mraise\u001b[39;00m \u001b[38;5;167;01mZeroDivisionError\u001b[39;00m(\u001b[38;5;124m\"\u001b[39m\u001b[38;5;124msdf\u001b[39m\u001b[38;5;124m\"\u001b[39m) \u001b[38;5;28;01mfrom\u001b[39;00m \u001b[38;5;21;01me\u001b[39;00m\n\u001b[0;32m      9\u001b[0m out \u001b[38;5;241m=\u001b[39m s\u001b[38;5;241m*\u001b[39mp\n",
      "\u001b[1;31mZeroDivisionError\u001b[0m: sdf"
     ]
    }
   ],
   "source": [
    "#TODO: vytvorte konstrukci zachytavani chyby\n",
    "def f2(p, s='A'):\n",
    "    try:\n",
    "        if p < 0:\n",
    "            p / 0\n",
    "    except ZeroDivisionError as e:\n",
    "        print(f'Hodnota p nemuze byt mensi nez 0, bylo zadano {p}')\n",
    "        raise ZeroDivisionError(\"sdf\") from e\n",
    "    out = s*p\n",
    "f2(s=\"ABC\", p=-4)"
   ]
  },
  {
   "cell_type": "markdown",
   "metadata": {},
   "source": [
    "## Část 3: Smyčky, pole atd.\n",
    "\n",
    "Vytvoříme data, se kterými budeme pracovat - bude se jednat o n-tice:\n",
    "`město, typ_hodnoty, teplota`\n",
    "\n",
    "Chování tohoto kódu byste měli rozumět!"
   ]
  },
  {
   "cell_type": "code",
   "execution_count": 1,
   "metadata": {},
   "outputs": [
    {
     "data": {
      "text/plain": [
       "[('Praha', 'T1', 15.577071938315349),\n",
       " ('Praha', 'T2', -8.999569791093322),\n",
       " ('Praha', 'T3', 1.0011727347647703),\n",
       " ('Brno', 'T1', -1.071570474047089),\n",
       " ('Brno', 'T2', 19.458848566560498),\n",
       " ('Brno', 'T3', 17.06797949691645),\n",
       " ('Ostrava', 'T1', 25.687182708193816),\n",
       " ('Ostrava', 'T2', -6.522446694823354),\n",
       " ('Ostrava', 'T3', 6.876872787410818)]"
      ]
     },
     "execution_count": 1,
     "metadata": {},
     "output_type": "execute_result"
    }
   ],
   "source": [
    "# neměnit!\n",
    "import itertools\n",
    "import random\n",
    "random.seed(42)  # pro deterministické chování\n",
    "data = [(m, h, random.random() * 40 - 10)\n",
    "        for m, h in itertools.product([\"Praha\", \"Brno\", \"Ostrava\"], [\"T1\", \"T2\", \"T3\"])]\n",
    "data\n"
   ]
  },
  {
   "cell_type": "markdown",
   "metadata": {},
   "source": [
    "Projdete data s tím, že vypíšete:\n",
    "```\n",
    "1. Praha T1 = 15.58\n",
    "2. Praha T2 = -9.00\n",
    "3. Praha T3 = 1.00\n",
    "4. Brno T1 = -1.07\n",
    "5. Brno T2 = 19.46\n",
    "6. Brno T3 = 17.07\n",
    "7. Ostrava T1 = 25.69\n",
    "8. Ostrava T2 = -6.52\n",
    "9. Ostrava T3 = 6.88\n",
    "```\n",
    "\n",
    "Použijte jeden cyklus s tím, že budete plnit proměnné `rid`, `mesto`, `typ` a `hodnota` - použijte funkce `enumerate` a rozbalení  (_upacking_). Hodnotu vypisujte na 2 desetinná místa"
   ]
  },
  {
   "cell_type": "code",
   "execution_count": 10,
   "metadata": {
    "tags": []
   },
   "outputs": [
    {
     "name": "stdout",
     "output_type": "stream",
     "text": [
      "1. Praha T1 = 15.58\n",
      "2. Praha T2 = -9.00\n",
      "3. Praha T3 = 1.00\n",
      "4. Brno T1 = -1.07\n",
      "5. Brno T2 = 19.46\n",
      "6. Brno T3 = 17.07\n",
      "7. Ostrava T1 = 25.69\n",
      "8. Ostrava T2 = -6.52\n",
      "9. Ostrava T3 = 6.88\n"
     ]
    }
   ],
   "source": [
    "#TODO: napiste cyklus\n",
    "random.seed(42)\n",
    "for i,j in enumerate(itertools.product([\"Praha\", \"Brno\", \"Ostrava\"], [\"T1\", \"T2\", \"T3\"])):\n",
    "    print(f\"{i+1}. {j[0]} {j[1]} = {random.random() * 40 - 10:.2f}\")"
   ]
  },
  {
   "cell_type": "markdown",
   "metadata": {},
   "source": [
    "A vypište poslední tři prvky pole (stačí vybrat a využít výchozího tisku)"
   ]
  },
  {
   "cell_type": "code",
   "execution_count": 22,
   "metadata": {
    "tags": []
   },
   "outputs": [
    {
     "name": "stdout",
     "output_type": "stream",
     "text": [
      "7. Ostrava T1 = 25.69\n",
      "8. Ostrava T2 = -6.52\n",
      "9. Ostrava T3 = 6.88\n"
     ]
    }
   ],
   "source": [
    "#TODO: výpis posledních třech prvků pole\n",
    "\n",
    "xx = []\n",
    "random.seed(42)\n",
    "for i,j in enumerate(itertools.product([\"Praha\", \"Brno\", \"Ostrava\"], [\"T1\", \"T2\", \"T3\"])):\n",
    "    xx.append(f\"{i+1}. {j[0]} {j[1]} = {random.random() * 40 - 10:.2f}\")\n",
    "for x in xx[-3:]:\n",
    "    print(x)"
   ]
  },
  {
   "cell_type": "code",
   "execution_count": null,
   "metadata": {},
   "outputs": [],
   "source": [
    "#TODO\n",
    "zpetna_vazba = \"\"\"\n",
    "Chcete nám něco říct? Co od předmětu očekáváte a podobně? Můžete použít toto pole!\n",
    "\"\"\""
   ]
  },
  {
   "cell_type": "markdown",
   "metadata": {},
   "source": [
    "Pozor, nepřidávejte další buňky a neměňte buňky s popisem na kód."
   ]
  }
 ],
 "metadata": {
  "kernelspec": {
   "display_name": "Python 3.10.7 64-bit",
   "language": "python",
   "name": "python3"
  },
  "language_info": {
   "codemirror_mode": {
    "name": "ipython",
    "version": 3
   },
   "file_extension": ".py",
   "mimetype": "text/x-python",
   "name": "python",
   "nbconvert_exporter": "python",
   "pygments_lexer": "ipython3",
   "version": "3.10.7"
  },
  "vscode": {
   "interpreter": {
    "hash": "e46807440e75f6db9d3749c6c342462e7e7198ccd9b595ccdf866ddee313bf63"
   }
  }
 },
 "nbformat": 4,
 "nbformat_minor": 2
}
